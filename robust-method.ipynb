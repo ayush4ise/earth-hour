{
 "cells": [
  {
   "cell_type": "markdown",
   "metadata": {},
   "source": [
    "for an year,\n",
    "take all saturdays, deseasonalize with monthly seasonality, ratio again"
   ]
  },
  {
   "cell_type": "code",
   "execution_count": 4,
   "metadata": {},
   "outputs": [],
   "source": [
    "import pandas as pd\n",
    "\n",
    "df = pd.read_excel('Yearly Energy Demand Data/System Demand (Actual)/2018.xlsx', index_col=0)\n",
    "df.columns = pd.to_datetime(df.columns, dayfirst=True)\n",
    "\n",
    "saturdays = {}\n",
    "earthhour = sum(df['2018-03-24 00:00:00']['21:00':'21:30'])\n",
    "for i in df.columns:\n",
    "    if i.weekday() == 5 and i.year == 2018:\n",
    "        saturdays[i] = sum(df[i]['21:00':'21:30'])\n",
    "\n",
    "saturdays = pd.Series(saturdays)"
   ]
  },
  {
   "cell_type": "code",
   "execution_count": 5,
   "metadata": {},
   "outputs": [],
   "source": [
    "i_sm = {1: 0.9579037796074662,\n",
    "        2: 0.9596186164365493,\n",
    "        3: 0.9898073559402792,\n",
    "        4: 1.0030397134620446,\n",
    "        5: 1.018392643199991,\n",
    "        6: 1.0261222064430728,\n",
    "        7: 1.02305328000198,\n",
    "        8: 1.017260959899729,\n",
    "        9: 1.020519376655325,\n",
    "        10: 1.011875522378184,\n",
    "        11: 0.9942104067376999,\n",
    "        12: 0.976059327973805}"
   ]
  },
  {
   "cell_type": "code",
   "execution_count": 6,
   "metadata": {},
   "outputs": [],
   "source": [
    "# deseasonalize the data\n",
    "deseasonalized = saturdays.copy()\n",
    "\n",
    "for i in deseasonalized.index:\n",
    "    deseasonalized[i] = deseasonalized[i] / i_sm[i.month]\n",
    "\n",
    "deseasonalized_eh = earthhour / i_sm[3]"
   ]
  },
  {
   "cell_type": "code",
   "execution_count": 7,
   "metadata": {},
   "outputs": [
    {
     "name": "stdout",
     "output_type": "stream",
     "text": [
      "Ratio of Earth Hour to average Saturday:  1.018282008776219\n"
     ]
    }
   ],
   "source": [
    "print('Ratio of Earth Hour to average Saturday: ', deseasonalized_eh / deseasonalized.drop('2018-03-24').mean())"
   ]
  },
  {
   "cell_type": "code",
   "execution_count": 8,
   "metadata": {},
   "outputs": [
    {
     "name": "stdout",
     "output_type": "stream",
     "text": [
      "Ratio of Earth Hour 2018 to Average Saturday:  1.018282008776219\n",
      "Ratio of Earth Hour 2019 to Average Saturday:  0.998000801074238\n",
      "Ratio of Earth Hour 2020 to Average Saturday:  1.0402447619626491\n",
      "Ratio of Earth Hour 2021 to Average Saturday:  0.9737623298786708\n",
      "Ratio of Earth Hour 2022 to Average Saturday:  1.0133210842519547\n"
     ]
    }
   ],
   "source": [
    "from utils import *\n",
    "\n",
    "robust_method(2018)\n",
    "robust_method(2019)\n",
    "robust_method(2020)\n",
    "robust_method(2021)\n",
    "robust_method(2022)"
   ]
  },
  {
   "cell_type": "markdown",
   "metadata": {},
   "source": [
    "## Saving Results"
   ]
  },
  {
   "cell_type": "code",
   "execution_count": 9,
   "metadata": {},
   "outputs": [],
   "source": [
    "earthhours = {2018:'03-24', 2019:'03-30', 2020:'03-28', 2021:'03-27', 2022:'03-26'}\n",
    "def robust_method(year):\n",
    "    \"\"\"deseasonalizing all the saturdays of an year and then calculating the ratio\"\"\"\n",
    "    df = pd.read_excel(f'Yearly Energy Demand Data/System Demand (Actual)/{year}.xlsx', index_col=0)\n",
    "    df.columns = pd.to_datetime(df.columns, dayfirst=True)\n",
    "    earthhour = sum(df[str(year)+f'-{earthhours[year]} 00:00:00']['21:00':'21:30'])\n",
    "    saturdays = {}\n",
    "    for i in df.columns:\n",
    "        if i.weekday() == 5 and i.year == year:\n",
    "            saturdays[i] = sum(df[i]['21:00':'21:30'])\n",
    "    saturdays = pd.Series(saturdays)\n",
    "\n",
    "    i_sm = {1: 0.9579037796074662,\n",
    "        2: 0.9596186164365493,\n",
    "        3: 0.9898073559402792,\n",
    "        4: 1.0030397134620446,\n",
    "        5: 1.018392643199991,\n",
    "        6: 1.0261222064430728,\n",
    "        7: 1.02305328000198,\n",
    "        8: 1.017260959899729,\n",
    "        9: 1.020519376655325,\n",
    "        10: 1.011875522378184,\n",
    "        11: 0.9942104067376999,\n",
    "        12: 0.976059327973805}\n",
    "    \n",
    "    # deseasonalize the data\n",
    "    deseasonalized = saturdays.copy()\n",
    "    for i in deseasonalized.index:\n",
    "        deseasonalized[i] = deseasonalized[i] / i_sm[i.month]\n",
    "    deseasonalized_eh = earthhour / i_sm[3]\n",
    "\n",
    "    deseasonalized.index = [i.strftime('%d-%b') for i in deseasonalized.index]\n",
    "\n",
    "    deseasonalized.to_excel('output/DeseasonalizedSaturdays'+str(year)+'.xlsx')\n",
    "\n",
    "robust_method(2018)\n",
    "robust_method(2019)\n",
    "robust_method(2020)\n",
    "robust_method(2021)\n",
    "robust_method(2022)"
   ]
  }
 ],
 "metadata": {
  "kernelspec": {
   "display_name": "Python 3",
   "language": "python",
   "name": "python3"
  },
  "language_info": {
   "codemirror_mode": {
    "name": "ipython",
    "version": 3
   },
   "file_extension": ".py",
   "mimetype": "text/x-python",
   "name": "python",
   "nbconvert_exporter": "python",
   "pygments_lexer": "ipython3",
   "version": "3.11.0"
  }
 },
 "nbformat": 4,
 "nbformat_minor": 2
}
