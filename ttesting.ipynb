{
 "cells": [
  {
   "cell_type": "code",
   "execution_count": 2,
   "metadata": {},
   "outputs": [
    {
     "data": {
      "text/plain": [
       "TtestResult(statistic=-3.250997755262471, pvalue=0.007721524256064637, df=11)"
      ]
     },
     "execution_count": 2,
     "metadata": {},
     "output_type": "execute_result"
    }
   ],
   "source": [
    "import pandas as pd\n",
    "from scipy import stats\n",
    "\n",
    "# not including earth hour \n",
    "\n",
    "stats.ttest_1samp([11927.20294,\n",
    "11809.35362,\n",
    "11140.99005,\n",
    "11706.14282,\n",
    "12196.67377,\n",
    "11851.66045,\n",
    "12220.37345,\n",
    "11835.79127,\n",
    "11942.2293,\n",
    "12258.0304,\n",
    "12089.0789,\n",
    "12216.45248\n",
    "],12225.89644\n",
    ")"
   ]
  }
 ],
 "metadata": {
  "kernelspec": {
   "display_name": "Python 3",
   "language": "python",
   "name": "python3"
  },
  "language_info": {
   "codemirror_mode": {
    "name": "ipython",
    "version": 3
   },
   "file_extension": ".py",
   "mimetype": "text/x-python",
   "name": "python",
   "nbconvert_exporter": "python",
   "pygments_lexer": "ipython3",
   "version": "3.11.0"
  }
 },
 "nbformat": 4,
 "nbformat_minor": 2
}
